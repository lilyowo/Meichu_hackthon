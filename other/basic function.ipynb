{
 "cells": [
  {
   "cell_type": "code",
   "execution_count": 10,
   "id": "fe6c6420",
   "metadata": {},
   "outputs": [
    {
     "name": "stdout",
     "output_type": "stream",
     "text": [
      "Collecting opencv-python\n",
      "  Downloading opencv_python-4.6.0.66-cp36-abi3-win_amd64.whl (35.6 MB)\n",
      "     ---------------------------------------- 35.6/35.6 MB 1.8 MB/s eta 0:00:00\n",
      "Requirement already satisfied: numpy>=1.17.3 in c:\\users\\d1063\\anaconda3\\lib\\site-packages (from opencv-python) (1.21.5)\n",
      "Installing collected packages: opencv-python\n",
      "Successfully installed opencv-python-4.6.0.66\n",
      "Requirement already satisfied: matplotlib in c:\\users\\d1063\\anaconda3\\lib\\site-packages (3.5.2)\n",
      "Requirement already satisfied: numpy>=1.17 in c:\\users\\d1063\\anaconda3\\lib\\site-packages (from matplotlib) (1.21.5)\n",
      "Requirement already satisfied: python-dateutil>=2.7 in c:\\users\\d1063\\anaconda3\\lib\\site-packages (from matplotlib) (2.8.2)\n",
      "Requirement already satisfied: fonttools>=4.22.0 in c:\\users\\d1063\\anaconda3\\lib\\site-packages (from matplotlib) (4.25.0)\n",
      "Requirement already satisfied: pillow>=6.2.0 in c:\\users\\d1063\\anaconda3\\lib\\site-packages (from matplotlib) (9.2.0)\n",
      "Requirement already satisfied: packaging>=20.0 in c:\\users\\d1063\\anaconda3\\lib\\site-packages (from matplotlib) (21.3)\n",
      "Requirement already satisfied: kiwisolver>=1.0.1 in c:\\users\\d1063\\anaconda3\\lib\\site-packages (from matplotlib) (1.4.2)\n",
      "Requirement already satisfied: pyparsing>=2.2.1 in c:\\users\\d1063\\anaconda3\\lib\\site-packages (from matplotlib) (3.0.9)\n",
      "Requirement already satisfied: cycler>=0.10 in c:\\users\\d1063\\anaconda3\\lib\\site-packages (from matplotlib) (0.11.0)\n",
      "Requirement already satisfied: six>=1.5 in c:\\users\\d1063\\anaconda3\\lib\\site-packages (from python-dateutil>=2.7->matplotlib) (1.16.0)\n"
     ]
    }
   ],
   "source": []
  },
  {
   "cell_type": "code",
   "execution_count": 8,
   "id": "9948c047",
   "metadata": {
    "scrolled": false
   },
   "outputs": [
    {
     "name": "stdout",
     "output_type": "stream",
     "text": [
      "Requirement already satisfied: opencv-python in c:\\users\\d1063\\anaconda3\\lib\\site-packages (4.6.0.66)\n",
      "Requirement already satisfied: numpy>=1.19.3 in c:\\users\\d1063\\anaconda3\\lib\\site-packages (from opencv-python) (1.21.5)\n",
      "Requirement already satisfied: matplotlib in c:\\users\\d1063\\anaconda3\\lib\\site-packages (3.5.2)\n",
      "Requirement already satisfied: pyparsing>=2.2.1 in c:\\users\\d1063\\anaconda3\\lib\\site-packages (from matplotlib) (3.0.9)\n",
      "Requirement already satisfied: numpy>=1.17 in c:\\users\\d1063\\anaconda3\\lib\\site-packages (from matplotlib) (1.21.5)\n",
      "Requirement already satisfied: cycler>=0.10 in c:\\users\\d1063\\anaconda3\\lib\\site-packages (from matplotlib) (0.11.0)\n",
      "Requirement already satisfied: python-dateutil>=2.7 in c:\\users\\d1063\\anaconda3\\lib\\site-packages (from matplotlib) (2.8.2)\n",
      "Requirement already satisfied: kiwisolver>=1.0.1 in c:\\users\\d1063\\anaconda3\\lib\\site-packages (from matplotlib) (1.4.2)\n",
      "Requirement already satisfied: pillow>=6.2.0 in c:\\users\\d1063\\anaconda3\\lib\\site-packages (from matplotlib) (9.2.0)\n",
      "Requirement already satisfied: fonttools>=4.22.0 in c:\\users\\d1063\\anaconda3\\lib\\site-packages (from matplotlib) (4.25.0)\n",
      "Requirement already satisfied: packaging>=20.0 in c:\\users\\d1063\\anaconda3\\lib\\site-packages (from matplotlib) (21.3)\n",
      "Requirement already satisfied: six>=1.5 in c:\\users\\d1063\\anaconda3\\lib\\site-packages (from python-dateutil>=2.7->matplotlib) (1.16.0)\n"
     ]
    },
    {
     "name": "stderr",
     "output_type": "stream",
     "text": [
      "C:\\Users\\d1063\\AppData\\Local\\Temp\\ipykernel_12988\\3427598160.py:60: DeprecationWarning: FLIP_LEFT_RIGHT is deprecated and will be removed in Pillow 10 (2023-07-01). Use Transpose.FLIP_LEFT_RIGHT instead.\n",
      "  img1_transpose = img1.transpose(Image.FLIP_LEFT_RIGHT)\n",
      "C:\\Users\\d1063\\AppData\\Local\\Temp\\ipykernel_12988\\3427598160.py:14: DeprecationWarning: ANTIALIAS is deprecated and will be removed in Pillow 10 (2023-07-01). Use Resampling.LANCZOS instead.\n",
      "  img = img.resize((8, 8), Image.ANTIALIAS).convert('L')\n"
     ]
    },
    {
     "name": "stdout",
     "output_type": "stream",
     "text": [
      "390842023935224\n",
      "3458972836893098044\n",
      "21\n",
      "False\n"
     ]
    }
   ],
   "source": [
    "!pip install opencv-python\n",
    "!pip install matplotlib\n",
    "from functools import reduce\n",
    "from PIL import Image\n",
    "import cv2\n",
    "from PIL import Image, ImageFilter\n",
    "import numpy as np\n",
    "\n",
    "def phash(img):\n",
    "    \"\"\"\n",
    "    :param img: 圖片\n",
    "    :return: 返回圖片的局部hash值\n",
    "    \"\"\"\n",
    "    img = img.resize((8, 8), Image.ANTIALIAS).convert('L')\n",
    "    avg = reduce(lambda x, y: x + y, img.getdata()) / 64.\n",
    "    hash_value=reduce(lambda x, y: x | (y[1] << y[0]), enumerate(map(lambda i: 0 if i < avg else 1, img.getdata())), 0)\n",
    "    print(hash_value)\n",
    "    return hash_value\n",
    "\n",
    "# 計算漢明距離:\n",
    "def hamming_distance(a, b):\n",
    "    \"\"\"\n",
    "    :param a: 圖片1的hash值\n",
    "    :param b: 圖片2的hash值\n",
    "    :return: 返回兩個圖片hash值的漢明距離\n",
    "    \"\"\"\n",
    "    hm_distance=bin(a ^ b).count('1')\n",
    "    print(hm_distance)\n",
    "    return hm_distance\n",
    "\n",
    "\n",
    "# 計算兩個圖片是否相似:\n",
    "def is_imgs_similar(img1,img2):\n",
    "    \"\"\"\n",
    "    :param img1: 圖片1\n",
    "    :param img2: 圖片2\n",
    "    :return:  True 圖片相似  False 圖片不相似\n",
    "    \"\"\"\n",
    "    return True if hamming_distance(phash(img1),phash(img2)) <= 5 else False\n",
    "\n",
    "def blur(n,img):\n",
    "    out_img = img.filter(ImageFilter.BoxBlur(n))\n",
    "    return out_img\n",
    "\n",
    "\n",
    "if __name__ == '__main__':\n",
    "\n",
    "    # 讀取圖片\n",
    "    img1 = Image.open(\"9.png\")\n",
    "    img2 = Image.open(\"4.png\")\n",
    "    img1.show()\n",
    "    #img2.show()\n",
    "    \n",
    "    img1_resized = img1.resize((128, 128))\n",
    "    img1_resized.show()\n",
    "    \n",
    "    img1_rotate = img1.rotate(45)\n",
    "    img1_rotate.show()\n",
    "    \n",
    "    img1_transpose = img1.transpose(Image.FLIP_LEFT_RIGHT)\n",
    "    img1_transpose.show()\n",
    "    \n",
    "    img1_blur1 = blur(10,img1)\n",
    "    img1_blur2 = blur(5,img1)\n",
    "    img1_blur1.show()\n",
    "    img1_blur2.show()\n",
    "    # 比較圖片相似度\n",
    "    result=is_imgs_similar(img1, img2)\n",
    "\n",
    "    print(result)\n",
    "    \"\"\"\n",
    "    img = cv2.imread('12.png')\n",
    "    img_gray = cv2.cvtColor(img, cv2.COLOR_BGR2GRAY); # 轉換前，都先將圖片轉換成灰階色彩\n",
    "    ret, output1 = cv2.threshold(img_gray, 127, 255, cv2.THRESH_BINARY)     # 如果大於 127 就等於 255，反之等於 0。\n",
    "    ret, output2 = cv2.threshold(img_gray, 127, 255, cv2.THRESH_BINARY_INV) # 如果大於 127 就等於 0，反之等於 255。\n",
    "    ret, output3 = cv2.threshold(img_gray, 127, 255, cv2.THRESH_TRUNC)      # 如果大於 127 就等於 127，反之數值不變。\n",
    "    ret, output4 = cv2.threshold(img_gray, 127, 255, cv2.THRESH_TOZERO)     # 如果大於 127 數值不變，反之數值等於 0。\n",
    "    ret, output5 = cv2.threshold(img_gray, 127, 255, cv2.THRESH_TOZERO_INV) # 如果大於 127 等於 0，反之數值不變。\n",
    "\n",
    "    cv2.imshow('原圖', img)\n",
    "    cv2.imshow('gray1', output1)\n",
    "    cv2.imshow('gray2', output2)\n",
    "    cv2.imshow('gray3', output3)\n",
    "    cv2.imshow('gray4', output4)\n",
    "    cv2.imshow('gray5', output5)\n",
    "    cv2.waitKey(0)    # 按下任意鍵停止\n",
    "    cv2.destroyAllWindows()\n",
    "    \n",
    "    \"\"\"\n",
    "    \n",
    "    \n",
    "    img2 = cv2.imread('11.png')\n",
    "    norm_img = np.zeros((800,800))\n",
    "    final_img = cv2.normalize(img2,  norm_img, 0, 255, cv2.NORM_MINMAX)\n",
    "    cv2.imshow('原圖2', img2)\n",
    "    cv2.imshow('Normalized Image', final_img)\n",
    "    cv2.imwrite('11_normalized.png', final_img)\n",
    "    cv2.waitKey(0)\n",
    "    cv2.destroyAllWindows()\n",
    "\n",
    "\n",
    "    "
   ]
  },
  {
   "cell_type": "code",
   "execution_count": null,
   "id": "0a55377a",
   "metadata": {},
   "outputs": [],
   "source": []
  },
  {
   "cell_type": "code",
   "execution_count": null,
   "id": "3c66ddea",
   "metadata": {},
   "outputs": [],
   "source": []
  },
  {
   "cell_type": "code",
   "execution_count": null,
   "id": "d6b1c95b",
   "metadata": {},
   "outputs": [],
   "source": []
  }
 ],
 "metadata": {
  "kernelspec": {
   "display_name": "Python 3 (ipykernel)",
   "language": "python",
   "name": "python3"
  },
  "language_info": {
   "codemirror_mode": {
    "name": "ipython",
    "version": 3
   },
   "file_extension": ".py",
   "mimetype": "text/x-python",
   "name": "python",
   "nbconvert_exporter": "python",
   "pygments_lexer": "ipython3",
   "version": "3.9.13"
  }
 },
 "nbformat": 4,
 "nbformat_minor": 5
}
