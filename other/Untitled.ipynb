{
 "cells": [
  {
   "cell_type": "code",
   "execution_count": 1,
   "id": "797be33a",
   "metadata": {},
   "outputs": [
    {
     "ename": "SystemExit",
     "evalue": "0",
     "output_type": "error",
     "traceback": [
      "An exception has occurred, use %tb to see the full traceback.\n",
      "\u001b[1;31mSystemExit\u001b[0m\u001b[1;31m:\u001b[0m 0\n"
     ]
    },
    {
     "name": "stderr",
     "output_type": "stream",
     "text": [
      "C:\\Users\\d1063\\anaconda3\\lib\\site-packages\\IPython\\core\\interactiveshell.py:3465: UserWarning: To exit: use 'exit', 'quit', or Ctrl-D.\n",
      "  warn(\"To exit: use 'exit', 'quit', or Ctrl-D.\", stacklevel=1)\n"
     ]
    }
   ],
   "source": [
    "import sys\n",
    "from PyQt5.QtWidgets import QApplication, QMainWindow, QWidget, QPushButton,QDialog,QLabel\n",
    "\n",
    "\n",
    "class main_windows(QWidget):\n",
    "\tdef __init__(self):\n",
    "\t\tsuper(main_windows,self).__init__()\n",
    "\n",
    "\tdef setupUi(self,Form):\n",
    "\t\tForm.setObjectName(\"Form\")\n",
    "\t\tForm.resize(500,500)\n",
    "\t\tself.form = Form\n",
    "\t\t\n",
    "\t\tself.btn1 = QPushButton(Form)\n",
    "\t\tself.btn1.setGeometry(100,100,100,100)\n",
    "\t\tself.btn1.setText(\"進入dialog1\")\n",
    "\t\tself.btn1.clicked.connect(self.slot_btn1_function)\n",
    "\n",
    "\tdef slot_btn1_function(self):\n",
    "\t\tself.form.hide()\n",
    "\t\tForm1 = QDialog()\n",
    "\t\tfirst_Dialog = Dialog1()\n",
    "\t\tfirst_Dialog.setupUi(Form1)\n",
    "\t\tForm1.show()\n",
    "\t\tForm1.exec_()\n",
    "\t\tself.form.show()\n",
    "\n",
    "class Dialog1(QWidget):\n",
    "\t\"\"\"docstring for Dialog1\"\"\"\n",
    "\tdef setupUi(self,Dialog):\n",
    "\t\tDialog.setObjectName('Dialog')\n",
    "\t\tDialog.resize(500,500)\n",
    "\t\tself.form = Dialog\n",
    "\t\tself.btn1 = QPushButton(Dialog)\n",
    "\t\tself.btn1.setGeometry(100,200,200,100)\n",
    "\t\tself.btn1.setText('進入mian_windows')\n",
    "\n",
    "\t\tself.btn1.clicked.connect(self.slot_btn1_function)\n",
    "\n",
    "\n",
    "\tdef slot_btn1_function(self):\n",
    "\t\tself.form.close()\n",
    "\t\t\n",
    "\n",
    "\n",
    "if __name__ == '__main__':\n",
    "\tapp = QApplication(sys.argv)\n",
    "\tw = main_windows()\n",
    "\tForm = QWidget()\n",
    "\tw.setupUi(Form)\n",
    "\tForm.show()\n",
    "\tsys.exit(app.exec_())"
   ]
  },
  {
   "cell_type": "code",
   "execution_count": null,
   "id": "4a629563",
   "metadata": {},
   "outputs": [],
   "source": []
  }
 ],
 "metadata": {
  "kernelspec": {
   "display_name": "Python 3 (ipykernel)",
   "language": "python",
   "name": "python3"
  },
  "language_info": {
   "codemirror_mode": {
    "name": "ipython",
    "version": 3
   },
   "file_extension": ".py",
   "mimetype": "text/x-python",
   "name": "python",
   "nbconvert_exporter": "python",
   "pygments_lexer": "ipython3",
   "version": "3.9.13"
  }
 },
 "nbformat": 4,
 "nbformat_minor": 5
}
