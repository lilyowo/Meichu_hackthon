{
 "cells": [
  {
   "cell_type": "markdown",
   "id": "6e28b947",
   "metadata": {},
   "source": [
    "# Prepare"
   ]
  },
  {
   "cell_type": "markdown",
   "id": "7c447b97",
   "metadata": {},
   "source": [
    "### import"
   ]
  },
  {
   "cell_type": "code",
   "execution_count": 6,
   "id": "fa839af4",
   "metadata": {},
   "outputs": [
    {
     "name": "stdout",
     "output_type": "stream",
     "text": [
      "Requirement already satisfied: opencv-python in c:\\users\\d1063\\anaconda3\\lib\\site-packages (4.6.0.66)\n",
      "Requirement already satisfied: numpy>=1.19.3 in c:\\users\\d1063\\anaconda3\\lib\\site-packages (from opencv-python) (1.21.5)\n",
      "Requirement already satisfied: matplotlib in c:\\users\\d1063\\anaconda3\\lib\\site-packages (3.5.2)\n",
      "Requirement already satisfied: packaging>=20.0 in c:\\users\\d1063\\anaconda3\\lib\\site-packages (from matplotlib) (21.3)\n",
      "Requirement already satisfied: cycler>=0.10 in c:\\users\\d1063\\anaconda3\\lib\\site-packages (from matplotlib) (0.11.0)\n",
      "Requirement already satisfied: python-dateutil>=2.7 in c:\\users\\d1063\\anaconda3\\lib\\site-packages (from matplotlib) (2.8.2)\n",
      "Requirement already satisfied: kiwisolver>=1.0.1 in c:\\users\\d1063\\anaconda3\\lib\\site-packages (from matplotlib) (1.4.2)\n",
      "Requirement already satisfied: numpy>=1.17 in c:\\users\\d1063\\anaconda3\\lib\\site-packages (from matplotlib) (1.21.5)\n",
      "Requirement already satisfied: pillow>=6.2.0 in c:\\users\\d1063\\anaconda3\\lib\\site-packages (from matplotlib) (9.2.0)\n",
      "Requirement already satisfied: pyparsing>=2.2.1 in c:\\users\\d1063\\anaconda3\\lib\\site-packages (from matplotlib) (3.0.9)\n",
      "Requirement already satisfied: fonttools>=4.22.0 in c:\\users\\d1063\\anaconda3\\lib\\site-packages (from matplotlib) (4.25.0)\n",
      "Requirement already satisfied: six>=1.5 in c:\\users\\d1063\\anaconda3\\lib\\site-packages (from python-dateutil>=2.7->matplotlib) (1.16.0)\n"
     ]
    }
   ],
   "source": [
    "!pip install opencv-python\n",
    "!pip install matplotlib\n",
    "from functools import reduce\n",
    "from PIL import Image\n",
    "import cv2\n",
    "from PIL import Image, ImageFilter\n",
    "import numpy as np"
   ]
  },
  {
   "cell_type": "markdown",
   "id": "ea5aeca9",
   "metadata": {},
   "source": [
    "### define function"
   ]
  },
  {
   "cell_type": "code",
   "execution_count": 7,
   "id": "65d7cb05",
   "metadata": {},
   "outputs": [],
   "source": [
    "def phash(img):\n",
    "    \"\"\"\n",
    "    :param img: 圖片\n",
    "    :return: 返回圖片的局部hash值\n",
    "    \"\"\"\n",
    "    img = img.resize((8, 8), Image.ANTIALIAS).convert('L')\n",
    "    avg = reduce(lambda x, y: x + y, img.getdata()) / 64.\n",
    "    hash_value=reduce(lambda x, y: x | (y[1] << y[0]), enumerate(map(lambda i: 0 if i < avg else 1, img.getdata())), 0)\n",
    "    print(hash_value)\n",
    "    return hash_value\n",
    "\n",
    "# 計算漢明距離:\n",
    "def hamming_distance(a, b):\n",
    "    \"\"\"\n",
    "    :param a: 圖片1的hash值\n",
    "    :param b: 圖片2的hash值\n",
    "    :return: 返回兩個圖片hash值的漢明距離\n",
    "    \"\"\"\n",
    "    hm_distance=bin(a ^ b).count('1')\n",
    "    print(hm_distance)\n",
    "    return hm_distance\n",
    "\n",
    "\n",
    "# 計算兩個圖片是否相似:\n",
    "def is_imgs_similar(img1,img2):\n",
    "    \"\"\"\n",
    "    :param img1: 圖片1\n",
    "    :param img2: 圖片2\n",
    "    :return:  True 圖片相似  False 圖片不相似\n",
    "    \"\"\"\n",
    "    return True if hamming_distance(phash(img1),phash(img2)) <= 5 else False\n",
    "# 模糊化\n",
    "def blur(n,img):\n",
    "    out_img = img.filter(ImageFilter.BoxBlur(n))\n",
    "    return out_img\n",
    "#pil cv2轉換\n",
    "def PIL_to_CV2(img):\n",
    "    img2 = cv2.cvtColor(numpy.asarray(img), cv2.COLOR_RGB2BGR)\n",
    "    return img2\n",
    "def CV2_to_PIL():\n",
    "    img2 = Image.fromarray(cv2.cvtColor(img, cv2.COLOR_BGR2RGB))\n",
    "    return img2\n",
    "\n",
    "\n"
   ]
  },
  {
   "cell_type": "markdown",
   "id": "ffa13ac9",
   "metadata": {},
   "source": [
    "# try to make for loop"
   ]
  },
  {
   "cell_type": "code",
   "execution_count": 11,
   "id": "8103b149",
   "metadata": {},
   "outputs": [
    {
     "ename": "SyntaxError",
     "evalue": "invalid syntax (915519111.py, line 1)",
     "output_type": "error",
     "traceback": [
      "\u001b[1;36m  File \u001b[1;32m\"C:\\Users\\d1063\\AppData\\Local\\Temp\\ipykernel_18160\\915519111.py\"\u001b[1;36m, line \u001b[1;32m1\u001b[0m\n\u001b[1;33m    img[]\u001b[0m\n\u001b[1;37m        ^\u001b[0m\n\u001b[1;31mSyntaxError\u001b[0m\u001b[1;31m:\u001b[0m invalid syntax\n"
     ]
    }
   ],
   "source": [
    "img=[]\n",
    "out_img=[]\n",
    "for i in range(1, 14):\n",
    "    img.append(Image.open(str(i)+\".png\"))\n",
    "    print(\"Input：\\n1 for bigger\\n2 for smaller\\n3 for rotate\\n\")\n",
    "    test = input()\n",
    "    if(test=='1'):\n",
    "        imgcv = PIL_to_CV2(img[i])\n",
    "        out_img.append(img[i].resize(imgcv.shape[0]*2, imgcv.sahpe[1]*2))\n",
    "        \n",
    "    break;\n",
    "out_img[1].show()\n",
    "\n",
    "    "
   ]
  }
 ],
 "metadata": {
  "kernelspec": {
   "display_name": "Python 3 (ipykernel)",
   "language": "python",
   "name": "python3"
  },
  "language_info": {
   "codemirror_mode": {
    "name": "ipython",
    "version": 3
   },
   "file_extension": ".py",
   "mimetype": "text/x-python",
   "name": "python",
   "nbconvert_exporter": "python",
   "pygments_lexer": "ipython3",
   "version": "3.9.13"
  }
 },
 "nbformat": 4,
 "nbformat_minor": 5
}
